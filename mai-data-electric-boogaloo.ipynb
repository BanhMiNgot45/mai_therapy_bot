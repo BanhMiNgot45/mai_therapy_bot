{
 "cells": [
  {
   "cell_type": "code",
   "execution_count": 1,
   "id": "34ae444d",
   "metadata": {
    "execution": {
     "iopub.execute_input": "2022-03-16T06:08:53.529109Z",
     "iopub.status.busy": "2022-03-16T06:08:53.528416Z",
     "iopub.status.idle": "2022-03-16T06:08:53.571026Z",
     "shell.execute_reply": "2022-03-16T06:08:53.570340Z",
     "shell.execute_reply.started": "2022-03-16T06:07:37.769720Z"
    },
    "papermill": {
     "duration": 0.064769,
     "end_time": "2022-03-16T06:08:53.571193",
     "exception": false,
     "start_time": "2022-03-16T06:08:53.506424",
     "status": "completed"
    },
    "tags": []
   },
   "outputs": [],
   "source": [
    "import numpy as np\n",
    "import pickle\n",
    "\n",
    "with open(\"/kaggle/input/mai-kinda-processed/X.pickle\", \"rb\") as p:\n",
    "    X = pickle.load(p)\n",
    "with open(\"/kaggle/input/mai-kinda-processed/y.pickle\", \"rb\") as p:\n",
    "    y = pickle.load(p)"
   ]
  },
  {
   "cell_type": "code",
   "execution_count": 2,
   "id": "66116628",
   "metadata": {
    "execution": {
     "iopub.execute_input": "2022-03-16T06:08:53.596804Z",
     "iopub.status.busy": "2022-03-16T06:08:53.595889Z",
     "iopub.status.idle": "2022-03-16T06:08:54.159992Z",
     "shell.execute_reply": "2022-03-16T06:08:54.160441Z",
     "shell.execute_reply.started": "2022-03-16T06:07:37.834743Z"
    },
    "papermill": {
     "duration": 0.577487,
     "end_time": "2022-03-16T06:08:54.160651",
     "exception": false,
     "start_time": "2022-03-16T06:08:53.583164",
     "status": "completed"
    },
    "tags": []
   },
   "outputs": [],
   "source": [
    "embeddings_dict = {}\n",
    "\n",
    "with open(\"/kaggle/input/mai-kinda-processed/mai_w2v.txt\", \"r\") as f:\n",
    "    first = True\n",
    "    for line in f:\n",
    "        if first:\n",
    "            first = False\n",
    "        else:\n",
    "            values = line.split()\n",
    "            word = values[0]\n",
    "            coefs = np.asarray(values[1:])\n",
    "            embeddings_dict[word] = coefs"
   ]
  },
  {
   "cell_type": "code",
   "execution_count": 3,
   "id": "d1131a18",
   "metadata": {
    "execution": {
     "iopub.execute_input": "2022-03-16T06:08:54.184682Z",
     "iopub.status.busy": "2022-03-16T06:08:54.184078Z",
     "iopub.status.idle": "2022-03-16T06:08:59.313990Z",
     "shell.execute_reply": "2022-03-16T06:08:59.314820Z",
     "shell.execute_reply.started": "2022-03-16T06:07:38.611524Z"
    },
    "papermill": {
     "duration": 5.144059,
     "end_time": "2022-03-16T06:08:59.315048",
     "exception": false,
     "start_time": "2022-03-16T06:08:54.170989",
     "status": "completed"
    },
    "tags": []
   },
   "outputs": [
    {
     "name": "stdout",
     "output_type": "stream",
     "text": [
      "Found  3954  unique tokens.\n",
      "Shape of data tensor:  (824, 543)\n"
     ]
    }
   ],
   "source": [
    "from tensorflow.python.keras.preprocessing.text import Tokenizer\n",
    "from tensorflow.python.keras.preprocessing.sequence import pad_sequences\n",
    "\n",
    "tok_obj = Tokenizer()\n",
    "tok_obj.fit_on_texts(X)\n",
    "sequences = tok_obj.texts_to_sequences(X)\n",
    "\n",
    "X = pad_sequences(sequences)\n",
    "\n",
    "print(\"Found \", len(tok_obj.word_index), \" unique tokens.\")\n",
    "print(\"Shape of data tensor: \", X.shape)"
   ]
  },
  {
   "cell_type": "code",
   "execution_count": 4,
   "id": "af9961a4",
   "metadata": {
    "execution": {
     "iopub.execute_input": "2022-03-16T06:08:59.343044Z",
     "iopub.status.busy": "2022-03-16T06:08:59.342400Z",
     "iopub.status.idle": "2022-03-16T06:08:59.345533Z",
     "shell.execute_reply": "2022-03-16T06:08:59.345079Z",
     "shell.execute_reply.started": "2022-03-16T06:07:43.480220Z"
    },
    "papermill": {
     "duration": 0.018347,
     "end_time": "2022-03-16T06:08:59.345687",
     "exception": false,
     "start_time": "2022-03-16T06:08:59.327340",
     "status": "completed"
    },
    "tags": []
   },
   "outputs": [],
   "source": [
    "with open(\"X_index.pickle\", \"wb\") as p:\n",
    "    pickle.dump(tok_obj.word_index, p)"
   ]
  },
  {
   "cell_type": "code",
   "execution_count": 5,
   "id": "e8342f67",
   "metadata": {
    "execution": {
     "iopub.execute_input": "2022-03-16T06:08:59.376419Z",
     "iopub.status.busy": "2022-03-16T06:08:59.375805Z",
     "iopub.status.idle": "2022-03-16T06:08:59.390788Z",
     "shell.execute_reply": "2022-03-16T06:08:59.390268Z",
     "shell.execute_reply.started": "2022-03-16T06:07:43.489460Z"
    },
    "papermill": {
     "duration": 0.035017,
     "end_time": "2022-03-16T06:08:59.390924",
     "exception": false,
     "start_time": "2022-03-16T06:08:59.355907",
     "status": "completed"
    },
    "tags": []
   },
   "outputs": [
    {
     "data": {
      "text/plain": [
       "<HDF5 dataset \"X\": shape (824, 543), type \"<i4\">"
      ]
     },
     "execution_count": 5,
     "metadata": {},
     "output_type": "execute_result"
    }
   ],
   "source": [
    "import h5py\n",
    "\n",
    "h = h5py.File(\"data.hdf5\", \"w\")\n",
    "h.create_dataset(\"X\", data=X, shape=X.shape, compression=\"gzip\")"
   ]
  },
  {
   "cell_type": "code",
   "execution_count": 6,
   "id": "3b74255a",
   "metadata": {
    "execution": {
     "iopub.execute_input": "2022-03-16T06:08:59.422671Z",
     "iopub.status.busy": "2022-03-16T06:08:59.417376Z",
     "iopub.status.idle": "2022-03-16T06:08:59.568724Z",
     "shell.execute_reply": "2022-03-16T06:08:59.568015Z",
     "shell.execute_reply.started": "2022-03-16T06:07:43.518291Z"
    },
    "papermill": {
     "duration": 0.167275,
     "end_time": "2022-03-16T06:08:59.568918",
     "exception": false,
     "start_time": "2022-03-16T06:08:59.401643",
     "status": "completed"
    },
    "tags": []
   },
   "outputs": [
    {
     "name": "stdout",
     "output_type": "stream",
     "text": [
      "(3955, 100)\n"
     ]
    }
   ],
   "source": [
    "num_words = len(tok_obj.word_index) + 1\n",
    "embedding_matrix = np.zeros((num_words, 100), dtype=np.float16)\n",
    "for word, i in tok_obj.word_index.items():\n",
    "    if i > num_words:\n",
    "        continue\n",
    "    embedding_vector = embeddings_dict.get(word)\n",
    "    if embedding_vector is not None:\n",
    "        embedding_matrix[i] = embedding_vector\n",
    "print(embedding_matrix.shape)"
   ]
  },
  {
   "cell_type": "code",
   "execution_count": 7,
   "id": "99258775",
   "metadata": {
    "execution": {
     "iopub.execute_input": "2022-03-16T06:08:59.597005Z",
     "iopub.status.busy": "2022-03-16T06:08:59.596330Z",
     "iopub.status.idle": "2022-03-16T06:08:59.603124Z",
     "shell.execute_reply": "2022-03-16T06:08:59.602691Z",
     "shell.execute_reply.started": "2022-03-16T06:07:43.786549Z"
    },
    "papermill": {
     "duration": 0.022509,
     "end_time": "2022-03-16T06:08:59.603256",
     "exception": false,
     "start_time": "2022-03-16T06:08:59.580747",
     "status": "completed"
    },
    "tags": []
   },
   "outputs": [
    {
     "data": {
      "text/plain": [
       "<HDF5 dataset \"embedding_matrix\": shape (3955, 100), type \"<f2\">"
      ]
     },
     "execution_count": 7,
     "metadata": {},
     "output_type": "execute_result"
    }
   ],
   "source": [
    "h.create_dataset(\"embedding_matrix\", data=embedding_matrix, shape=embedding_matrix.shape, compression=\"gzip\")"
   ]
  },
  {
   "cell_type": "code",
   "execution_count": 8,
   "id": "4af6908b",
   "metadata": {
    "execution": {
     "iopub.execute_input": "2022-03-16T06:08:59.773808Z",
     "iopub.status.busy": "2022-03-16T06:08:59.772813Z",
     "iopub.status.idle": "2022-03-16T06:08:59.777128Z",
     "shell.execute_reply": "2022-03-16T06:08:59.776547Z",
     "shell.execute_reply.started": "2022-03-16T06:07:43.796833Z"
    },
    "papermill": {
     "duration": 0.162821,
     "end_time": "2022-03-16T06:08:59.777259",
     "exception": false,
     "start_time": "2022-03-16T06:08:59.614438",
     "status": "completed"
    },
    "tags": []
   },
   "outputs": [
    {
     "data": {
      "text/plain": [
       "127"
      ]
     },
     "execution_count": 8,
     "metadata": {},
     "output_type": "execute_result"
    }
   ],
   "source": [
    "import gc\n",
    "\n",
    "del X\n",
    "del embedding_matrix\n",
    "gc.collect()"
   ]
  },
  {
   "cell_type": "code",
   "execution_count": 9,
   "id": "a3164ce1",
   "metadata": {
    "execution": {
     "iopub.execute_input": "2022-03-16T06:08:59.880900Z",
     "iopub.status.busy": "2022-03-16T06:08:59.841271Z",
     "iopub.status.idle": "2022-03-16T06:09:00.550648Z",
     "shell.execute_reply": "2022-03-16T06:09:00.550066Z",
     "shell.execute_reply.started": "2022-03-16T06:07:43.965069Z"
    },
    "papermill": {
     "duration": 0.762109,
     "end_time": "2022-03-16T06:09:00.550787",
     "exception": false,
     "start_time": "2022-03-16T06:08:59.788678",
     "status": "completed"
    },
    "tags": []
   },
   "outputs": [
    {
     "name": "stdout",
     "output_type": "stream",
     "text": [
      "Found  13857  unique tokens.\n"
     ]
    }
   ],
   "source": [
    "tok_obj.fit_on_texts(y)\n",
    "sequences = tok_obj.texts_to_sequences(y)\n",
    "\n",
    "y = pad_sequences(sequences)\n",
    "\n",
    "print(\"Found \", len(tok_obj.word_index), \" unique tokens.\")"
   ]
  },
  {
   "cell_type": "code",
   "execution_count": 10,
   "id": "032dfa15",
   "metadata": {
    "execution": {
     "iopub.execute_input": "2022-03-16T06:09:00.584351Z",
     "iopub.status.busy": "2022-03-16T06:09:00.583729Z",
     "iopub.status.idle": "2022-03-16T06:09:00.586295Z",
     "shell.execute_reply": "2022-03-16T06:09:00.586795Z",
     "shell.execute_reply.started": "2022-03-16T06:07:44.828771Z"
    },
    "papermill": {
     "duration": 0.024163,
     "end_time": "2022-03-16T06:09:00.586984",
     "exception": false,
     "start_time": "2022-03-16T06:09:00.562821",
     "status": "completed"
    },
    "tags": []
   },
   "outputs": [],
   "source": [
    "with open(\"y_index.pickle\", \"wb\") as p:\n",
    "    pickle.dump(tok_obj.word_index, p)"
   ]
  },
  {
   "cell_type": "code",
   "execution_count": 11,
   "id": "6e9e0165",
   "metadata": {
    "execution": {
     "iopub.execute_input": "2022-03-16T06:09:00.616652Z",
     "iopub.status.busy": "2022-03-16T06:09:00.616037Z",
     "iopub.status.idle": "2022-03-16T06:09:00.903018Z",
     "shell.execute_reply": "2022-03-16T06:09:00.903478Z",
     "shell.execute_reply.started": "2022-03-16T06:07:44.840651Z"
    },
    "papermill": {
     "duration": 0.304543,
     "end_time": "2022-03-16T06:09:00.903697",
     "exception": false,
     "start_time": "2022-03-16T06:09:00.599154",
     "status": "completed"
    },
    "tags": []
   },
   "outputs": [],
   "source": [
    "h.create_dataset(\"y\", data=y, shape=y.shape, compression=\"gzip\")\n",
    "h.close()"
   ]
  },
  {
   "cell_type": "code",
   "execution_count": 12,
   "id": "22d22dd8",
   "metadata": {
    "execution": {
     "iopub.execute_input": "2022-03-16T06:09:01.080323Z",
     "iopub.status.busy": "2022-03-16T06:09:01.079432Z",
     "iopub.status.idle": "2022-03-16T06:09:01.084745Z",
     "shell.execute_reply": "2022-03-16T06:09:01.085216Z",
     "shell.execute_reply.started": "2022-03-16T06:07:45.120494Z"
    },
    "papermill": {
     "duration": 0.169728,
     "end_time": "2022-03-16T06:09:01.085392",
     "exception": false,
     "start_time": "2022-03-16T06:09:00.915664",
     "status": "completed"
    },
    "tags": []
   },
   "outputs": [
    {
     "data": {
      "text/plain": [
       "63"
      ]
     },
     "execution_count": 12,
     "metadata": {},
     "output_type": "execute_result"
    }
   ],
   "source": [
    "del y\n",
    "gc.collect()"
   ]
  }
 ],
 "metadata": {
  "kernelspec": {
   "display_name": "Python 3",
   "language": "python",
   "name": "python3"
  },
  "language_info": {
   "codemirror_mode": {
    "name": "ipython",
    "version": 3
   },
   "file_extension": ".py",
   "mimetype": "text/x-python",
   "name": "python",
   "nbconvert_exporter": "python",
   "pygments_lexer": "ipython3",
   "version": "3.7.12"
  },
  "papermill": {
   "default_parameters": {},
   "duration": 19.525252,
   "end_time": "2022-03-16T06:09:04.175151",
   "environment_variables": {},
   "exception": null,
   "input_path": "__notebook__.ipynb",
   "output_path": "__notebook__.ipynb",
   "parameters": {},
   "start_time": "2022-03-16T06:08:44.649899",
   "version": "2.3.3"
  }
 },
 "nbformat": 4,
 "nbformat_minor": 5
}
