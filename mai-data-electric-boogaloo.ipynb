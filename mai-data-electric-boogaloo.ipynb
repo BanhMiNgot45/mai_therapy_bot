{
 "cells": [
  {
   "cell_type": "code",
   "execution_count": 1,
   "id": "5e3d9f18",
   "metadata": {
    "execution": {
     "iopub.execute_input": "2022-03-16T04:09:43.227278Z",
     "iopub.status.busy": "2022-03-16T04:09:43.226126Z",
     "iopub.status.idle": "2022-03-16T04:09:43.294391Z",
     "shell.execute_reply": "2022-03-16T04:09:43.295002Z",
     "shell.execute_reply.started": "2022-03-16T04:06:47.993866Z"
    },
    "papermill": {
     "duration": 0.082908,
     "end_time": "2022-03-16T04:09:43.295289",
     "exception": false,
     "start_time": "2022-03-16T04:09:43.212381",
     "status": "completed"
    },
    "tags": []
   },
   "outputs": [],
   "source": [
    "import numpy as np\n",
    "import pickle\n",
    "\n",
    "with open(\"/kaggle/input/mai-kinda-processed/X.pickle\", \"rb\") as p:\n",
    "    X = pickle.load(p)\n",
    "with open(\"/kaggle/input/mai-kinda-processed/y.pickle\", \"rb\") as p:\n",
    "    y = pickle.load(p)"
   ]
  },
  {
   "cell_type": "code",
   "execution_count": 2,
   "id": "60461a4c",
   "metadata": {
    "execution": {
     "iopub.execute_input": "2022-03-16T04:09:43.318120Z",
     "iopub.status.busy": "2022-03-16T04:09:43.317410Z",
     "iopub.status.idle": "2022-03-16T04:09:44.174515Z",
     "shell.execute_reply": "2022-03-16T04:09:44.175026Z",
     "shell.execute_reply.started": "2022-03-16T04:06:48.015322Z"
    },
    "papermill": {
     "duration": 0.869862,
     "end_time": "2022-03-16T04:09:44.175213",
     "exception": false,
     "start_time": "2022-03-16T04:09:43.305351",
     "status": "completed"
    },
    "tags": []
   },
   "outputs": [],
   "source": [
    "embeddings_dict = {}\n",
    "\n",
    "with open(\"/kaggle/input/mai-kinda-processed/mai_w2v.txt\", \"r\") as f:\n",
    "    first = True\n",
    "    for line in f:\n",
    "        if first:\n",
    "            first = False\n",
    "        else:\n",
    "            values = line.split()\n",
    "            word = values[0]\n",
    "            coefs = np.asarray(values[1:])\n",
    "            embeddings_dict[word] = coefs"
   ]
  },
  {
   "cell_type": "code",
   "execution_count": 3,
   "id": "6075aaec",
   "metadata": {
    "execution": {
     "iopub.execute_input": "2022-03-16T04:09:44.201350Z",
     "iopub.status.busy": "2022-03-16T04:09:44.200471Z",
     "iopub.status.idle": "2022-03-16T04:09:49.622414Z",
     "shell.execute_reply": "2022-03-16T04:09:49.622924Z",
     "shell.execute_reply.started": "2022-03-16T04:06:48.868507Z"
    },
    "papermill": {
     "duration": 5.438299,
     "end_time": "2022-03-16T04:09:49.623086",
     "exception": false,
     "start_time": "2022-03-16T04:09:44.184787",
     "status": "completed"
    },
    "tags": []
   },
   "outputs": [
    {
     "name": "stdout",
     "output_type": "stream",
     "text": [
      "Found  3954  unique tokens.\n",
      "Shape of data tensor:  (824, 543)\n"
     ]
    }
   ],
   "source": [
    "from tensorflow.python.keras.preprocessing.text import Tokenizer\n",
    "from tensorflow.python.keras.preprocessing.sequence import pad_sequences\n",
    "\n",
    "tok_obj = Tokenizer()\n",
    "tok_obj.fit_on_texts(X)\n",
    "sequences = tok_obj.texts_to_sequences(X)\n",
    "\n",
    "X = pad_sequences(sequences)\n",
    "\n",
    "print(\"Found \", len(tok_obj.word_index), \" unique tokens.\")\n",
    "print(\"Shape of data tensor: \", X.shape)"
   ]
  },
  {
   "cell_type": "code",
   "execution_count": 4,
   "id": "2068fdf9",
   "metadata": {
    "execution": {
     "iopub.execute_input": "2022-03-16T04:09:49.651947Z",
     "iopub.status.busy": "2022-03-16T04:09:49.651151Z",
     "iopub.status.idle": "2022-03-16T04:09:49.670238Z",
     "shell.execute_reply": "2022-03-16T04:09:49.669748Z",
     "shell.execute_reply.started": "2022-03-16T04:06:54.415676Z"
    },
    "papermill": {
     "duration": 0.037246,
     "end_time": "2022-03-16T04:09:49.670373",
     "exception": false,
     "start_time": "2022-03-16T04:09:49.633127",
     "status": "completed"
    },
    "tags": []
   },
   "outputs": [
    {
     "data": {
      "text/plain": [
       "<HDF5 dataset \"X\": shape (824, 543), type \"<i4\">"
      ]
     },
     "execution_count": 4,
     "metadata": {},
     "output_type": "execute_result"
    }
   ],
   "source": [
    "import h5py\n",
    "\n",
    "h = h5py.File(\"data.hdf5\", \"w\")\n",
    "h.create_dataset(\"X\", data=X, shape=X.shape, compression=\"gzip\")"
   ]
  },
  {
   "cell_type": "code",
   "execution_count": 5,
   "id": "b75b4334",
   "metadata": {
    "execution": {
     "iopub.execute_input": "2022-03-16T04:09:49.850454Z",
     "iopub.status.busy": "2022-03-16T04:09:49.849451Z",
     "iopub.status.idle": "2022-03-16T04:09:49.854859Z",
     "shell.execute_reply": "2022-03-16T04:09:49.854269Z",
     "shell.execute_reply.started": "2022-03-16T04:06:54.441330Z"
    },
    "papermill": {
     "duration": 0.1745,
     "end_time": "2022-03-16T04:09:49.854991",
     "exception": false,
     "start_time": "2022-03-16T04:09:49.680491",
     "status": "completed"
    },
    "tags": []
   },
   "outputs": [
    {
     "data": {
      "text/plain": [
       "64"
      ]
     },
     "execution_count": 5,
     "metadata": {},
     "output_type": "execute_result"
    }
   ],
   "source": [
    "import gc\n",
    "\n",
    "del X\n",
    "gc.collect()"
   ]
  },
  {
   "cell_type": "code",
   "execution_count": 6,
   "id": "f09fb556",
   "metadata": {
    "execution": {
     "iopub.execute_input": "2022-03-16T04:09:49.953681Z",
     "iopub.status.busy": "2022-03-16T04:09:49.916003Z",
     "iopub.status.idle": "2022-03-16T04:09:50.778790Z",
     "shell.execute_reply": "2022-03-16T04:09:50.779298Z",
     "shell.execute_reply.started": "2022-03-16T04:06:54.450134Z"
    },
    "papermill": {
     "duration": 0.913795,
     "end_time": "2022-03-16T04:09:50.779488",
     "exception": false,
     "start_time": "2022-03-16T04:09:49.865693",
     "status": "completed"
    },
    "tags": []
   },
   "outputs": [
    {
     "name": "stdout",
     "output_type": "stream",
     "text": [
      "Found  13857  unique tokens.\n",
      "Shape of data tensor:  (824, 10934)\n"
     ]
    }
   ],
   "source": [
    "tok_obj.fit_on_texts(y)\n",
    "sequences = tok_obj.texts_to_sequences(y)\n",
    "\n",
    "y = pad_sequences(sequences)\n",
    "\n",
    "print(\"Found \", len(tok_obj.word_index), \" unique tokens.\")\n",
    "print(\"Shape of data tensor: \", y.shape)"
   ]
  },
  {
   "cell_type": "code",
   "execution_count": 7,
   "id": "76b6c59d",
   "metadata": {
    "execution": {
     "iopub.execute_input": "2022-03-16T04:09:50.809735Z",
     "iopub.status.busy": "2022-03-16T04:09:50.808678Z",
     "iopub.status.idle": "2022-03-16T04:09:51.058406Z",
     "shell.execute_reply": "2022-03-16T04:09:51.057737Z",
     "shell.execute_reply.started": "2022-03-16T04:06:55.393214Z"
    },
    "papermill": {
     "duration": 0.266074,
     "end_time": "2022-03-16T04:09:51.058583",
     "exception": false,
     "start_time": "2022-03-16T04:09:50.792509",
     "status": "completed"
    },
    "tags": []
   },
   "outputs": [
    {
     "data": {
      "text/plain": [
       "<HDF5 dataset \"y\": shape (824, 10934), type \"<i4\">"
      ]
     },
     "execution_count": 7,
     "metadata": {},
     "output_type": "execute_result"
    }
   ],
   "source": [
    "h.create_dataset(\"y\", data=y, shape=y.shape, compression=\"gzip\")"
   ]
  },
  {
   "cell_type": "code",
   "execution_count": 8,
   "id": "7106a2bc",
   "metadata": {
    "execution": {
     "iopub.execute_input": "2022-03-16T04:09:51.244207Z",
     "iopub.status.busy": "2022-03-16T04:09:51.243532Z",
     "iopub.status.idle": "2022-03-16T04:09:51.250271Z",
     "shell.execute_reply": "2022-03-16T04:09:51.249753Z",
     "shell.execute_reply.started": "2022-03-16T04:06:55.645362Z"
    },
    "papermill": {
     "duration": 0.179807,
     "end_time": "2022-03-16T04:09:51.250402",
     "exception": false,
     "start_time": "2022-03-16T04:09:51.070595",
     "status": "completed"
    },
    "tags": []
   },
   "outputs": [
    {
     "data": {
      "text/plain": [
       "42"
      ]
     },
     "execution_count": 8,
     "metadata": {},
     "output_type": "execute_result"
    }
   ],
   "source": [
    "del y\n",
    "gc.collect()"
   ]
  }
 ],
 "metadata": {
  "kernelspec": {
   "display_name": "Python 3",
   "language": "python",
   "name": "python3"
  },
  "language_info": {
   "codemirror_mode": {
    "name": "ipython",
    "version": 3
   },
   "file_extension": ".py",
   "mimetype": "text/x-python",
   "name": "python",
   "nbconvert_exporter": "python",
   "pygments_lexer": "ipython3",
   "version": "3.7.12"
  },
  "papermill": {
   "default_parameters": {},
   "duration": 20.664844,
   "end_time": "2022-03-16T04:09:53.967761",
   "environment_variables": {},
   "exception": null,
   "input_path": "__notebook__.ipynb",
   "output_path": "__notebook__.ipynb",
   "parameters": {},
   "start_time": "2022-03-16T04:09:33.302917",
   "version": "2.3.3"
  }
 },
 "nbformat": 4,
 "nbformat_minor": 5
}
