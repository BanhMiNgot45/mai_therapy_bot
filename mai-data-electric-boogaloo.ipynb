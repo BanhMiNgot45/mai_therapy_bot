{
 "cells": [
  {
   "cell_type": "code",
   "execution_count": 1,
   "id": "40bf5e85",
   "metadata": {
    "execution": {
     "iopub.execute_input": "2022-03-16T04:07:57.704650Z",
     "iopub.status.busy": "2022-03-16T04:07:57.704005Z",
     "iopub.status.idle": "2022-03-16T04:07:57.778909Z",
     "shell.execute_reply": "2022-03-16T04:07:57.779405Z",
     "shell.execute_reply.started": "2022-03-16T04:06:47.993866Z"
    },
    "papermill": {
     "duration": 0.092526,
     "end_time": "2022-03-16T04:07:57.779754",
     "exception": false,
     "start_time": "2022-03-16T04:07:57.687228",
     "status": "completed"
    },
    "tags": []
   },
   "outputs": [],
   "source": [
    "import numpy as np\n",
    "import pickle\n",
    "\n",
    "with open(\"/kaggle/input/mai-kinda-processed/X.pickle\", \"rb\") as p:\n",
    "    X = pickle.load(p)\n",
    "with open(\"/kaggle/input/mai-kinda-processed/y.pickle\", \"rb\") as p:\n",
    "    y = pickle.load(p)"
   ]
  },
  {
   "cell_type": "code",
   "execution_count": 2,
   "id": "91dbc4d2",
   "metadata": {
    "execution": {
     "iopub.execute_input": "2022-03-16T04:07:57.798917Z",
     "iopub.status.busy": "2022-03-16T04:07:57.797982Z",
     "iopub.status.idle": "2022-03-16T04:07:58.405096Z",
     "shell.execute_reply": "2022-03-16T04:07:58.404575Z",
     "shell.execute_reply.started": "2022-03-16T04:06:48.015322Z"
    },
    "papermill": {
     "duration": 0.61741,
     "end_time": "2022-03-16T04:07:58.405242",
     "exception": false,
     "start_time": "2022-03-16T04:07:57.787832",
     "status": "completed"
    },
    "tags": []
   },
   "outputs": [],
   "source": [
    "embeddings_dict = {}\n",
    "\n",
    "with open(\"/kaggle/input/mai-kinda-processed/mai_w2v.txt\", \"r\") as f:\n",
    "    first = True\n",
    "    for line in f:\n",
    "        if first:\n",
    "            first = False\n",
    "        else:\n",
    "            values = line.split()\n",
    "            word = values[0]\n",
    "            coefs = np.asarray(values[1:])\n",
    "            embeddings_dict[word] = coefs"
   ]
  },
  {
   "cell_type": "code",
   "execution_count": 3,
   "id": "2d91b121",
   "metadata": {
    "execution": {
     "iopub.execute_input": "2022-03-16T04:07:58.425248Z",
     "iopub.status.busy": "2022-03-16T04:07:58.424667Z",
     "iopub.status.idle": "2022-03-16T04:08:03.395225Z",
     "shell.execute_reply": "2022-03-16T04:08:03.395895Z",
     "shell.execute_reply.started": "2022-03-16T04:06:48.868507Z"
    },
    "papermill": {
     "duration": 4.983553,
     "end_time": "2022-03-16T04:08:03.396135",
     "exception": false,
     "start_time": "2022-03-16T04:07:58.412582",
     "status": "completed"
    },
    "tags": []
   },
   "outputs": [
    {
     "name": "stdout",
     "output_type": "stream",
     "text": [
      "Found  3954  unique tokens.\n",
      "Shape of data tensor:  (824, 543)\n"
     ]
    }
   ],
   "source": [
    "from tensorflow.python.keras.preprocessing.text import Tokenizer\n",
    "from tensorflow.python.keras.preprocessing.sequence import pad_sequences\n",
    "\n",
    "tok_obj = Tokenizer()\n",
    "tok_obj.fit_on_texts(X)\n",
    "sequences = tok_obj.texts_to_sequences(X)\n",
    "\n",
    "X = pad_sequences(sequences)\n",
    "\n",
    "print(\"Found \", len(tok_obj.word_index), \" unique tokens.\")\n",
    "print(\"Shape of data tensor: \", X.shape)"
   ]
  },
  {
   "cell_type": "code",
   "execution_count": 4,
   "id": "6afd7399",
   "metadata": {
    "execution": {
     "iopub.execute_input": "2022-03-16T04:08:03.422608Z",
     "iopub.status.busy": "2022-03-16T04:08:03.421928Z",
     "iopub.status.idle": "2022-03-16T04:08:03.436431Z",
     "shell.execute_reply": "2022-03-16T04:08:03.436919Z",
     "shell.execute_reply.started": "2022-03-16T04:06:54.415676Z"
    },
    "papermill": {
     "duration": 0.032753,
     "end_time": "2022-03-16T04:08:03.437095",
     "exception": false,
     "start_time": "2022-03-16T04:08:03.404342",
     "status": "completed"
    },
    "tags": []
   },
   "outputs": [
    {
     "data": {
      "text/plain": [
       "<HDF5 dataset \"X\": shape (824, 543), type \"<i4\">"
      ]
     },
     "execution_count": 4,
     "metadata": {},
     "output_type": "execute_result"
    }
   ],
   "source": [
    "import h5py\n",
    "\n",
    "h = h5py.File(\"data.hdf5\", \"w\")\n",
    "h.create_dataset(\"X\", data=X, shape=X.shape, compression=\"gzip\")"
   ]
  },
  {
   "cell_type": "code",
   "execution_count": 5,
   "id": "0ef39bde",
   "metadata": {
    "execution": {
     "iopub.execute_input": "2022-03-16T04:08:03.458486Z",
     "iopub.status.busy": "2022-03-16T04:08:03.457753Z",
     "iopub.status.idle": "2022-03-16T04:08:03.461339Z",
     "shell.execute_reply": "2022-03-16T04:08:03.460850Z",
     "shell.execute_reply.started": "2022-03-16T04:06:54.441330Z"
    },
    "papermill": {
     "duration": 0.016597,
     "end_time": "2022-03-16T04:08:03.461466",
     "exception": false,
     "start_time": "2022-03-16T04:08:03.444869",
     "status": "completed"
    },
    "tags": []
   },
   "outputs": [
    {
     "data": {
      "text/plain": [
       "<function gc.collect(generation=2)>"
      ]
     },
     "execution_count": 5,
     "metadata": {},
     "output_type": "execute_result"
    }
   ],
   "source": [
    "import gc\n",
    "\n",
    "del X\n",
    "gc.collect"
   ]
  },
  {
   "cell_type": "code",
   "execution_count": 6,
   "id": "3f4cc1d4",
   "metadata": {
    "execution": {
     "iopub.execute_input": "2022-03-16T04:08:03.523228Z",
     "iopub.status.busy": "2022-03-16T04:08:03.507879Z",
     "iopub.status.idle": "2022-03-16T04:08:04.225791Z",
     "shell.execute_reply": "2022-03-16T04:08:04.226230Z",
     "shell.execute_reply.started": "2022-03-16T04:06:54.450134Z"
    },
    "papermill": {
     "duration": 0.757003,
     "end_time": "2022-03-16T04:08:04.226405",
     "exception": false,
     "start_time": "2022-03-16T04:08:03.469402",
     "status": "completed"
    },
    "tags": []
   },
   "outputs": [
    {
     "name": "stdout",
     "output_type": "stream",
     "text": [
      "Found  13857  unique tokens.\n",
      "Shape of data tensor:  (824, 10934)\n"
     ]
    }
   ],
   "source": [
    "tok_obj.fit_on_texts(y)\n",
    "sequences = tok_obj.texts_to_sequences(y)\n",
    "\n",
    "y = pad_sequences(sequences)\n",
    "\n",
    "print(\"Found \", len(tok_obj.word_index), \" unique tokens.\")\n",
    "print(\"Shape of data tensor: \", y.shape)"
   ]
  },
  {
   "cell_type": "code",
   "execution_count": 7,
   "id": "653cbb5f",
   "metadata": {
    "execution": {
     "iopub.execute_input": "2022-03-16T04:08:04.248925Z",
     "iopub.status.busy": "2022-03-16T04:08:04.248279Z",
     "iopub.status.idle": "2022-03-16T04:08:04.493984Z",
     "shell.execute_reply": "2022-03-16T04:08:04.493469Z",
     "shell.execute_reply.started": "2022-03-16T04:06:55.393214Z"
    },
    "papermill": {
     "duration": 0.25921,
     "end_time": "2022-03-16T04:08:04.494115",
     "exception": false,
     "start_time": "2022-03-16T04:08:04.234905",
     "status": "completed"
    },
    "tags": []
   },
   "outputs": [
    {
     "data": {
      "text/plain": [
       "<HDF5 dataset \"y\": shape (824, 10934), type \"<i4\">"
      ]
     },
     "execution_count": 7,
     "metadata": {},
     "output_type": "execute_result"
    }
   ],
   "source": [
    "h.create_dataset(\"y\", data=y, shape=y.shape, compression=\"gzip\")"
   ]
  },
  {
   "cell_type": "code",
   "execution_count": 8,
   "id": "10340ccc",
   "metadata": {
    "execution": {
     "iopub.execute_input": "2022-03-16T04:08:04.667397Z",
     "iopub.status.busy": "2022-03-16T04:08:04.666764Z",
     "iopub.status.idle": "2022-03-16T04:08:04.670242Z",
     "shell.execute_reply": "2022-03-16T04:08:04.670728Z",
     "shell.execute_reply.started": "2022-03-16T04:06:55.645362Z"
    },
    "papermill": {
     "duration": 0.168017,
     "end_time": "2022-03-16T04:08:04.670899",
     "exception": false,
     "start_time": "2022-03-16T04:08:04.502882",
     "status": "completed"
    },
    "tags": []
   },
   "outputs": [
    {
     "data": {
      "text/plain": [
       "64"
      ]
     },
     "execution_count": 8,
     "metadata": {},
     "output_type": "execute_result"
    }
   ],
   "source": [
    "del y\n",
    "gc.collect()"
   ]
  }
 ],
 "metadata": {
  "kernelspec": {
   "display_name": "Python 3",
   "language": "python",
   "name": "python3"
  },
  "language_info": {
   "codemirror_mode": {
    "name": "ipython",
    "version": 3
   },
   "file_extension": ".py",
   "mimetype": "text/x-python",
   "name": "python",
   "nbconvert_exporter": "python",
   "pygments_lexer": "ipython3",
   "version": "3.7.12"
  },
  "papermill": {
   "default_parameters": {},
   "duration": 18.509719,
   "end_time": "2022-03-16T04:08:07.532197",
   "environment_variables": {},
   "exception": null,
   "input_path": "__notebook__.ipynb",
   "output_path": "__notebook__.ipynb",
   "parameters": {},
   "start_time": "2022-03-16T04:07:49.022478",
   "version": "2.3.3"
  }
 },
 "nbformat": 4,
 "nbformat_minor": 5
}
