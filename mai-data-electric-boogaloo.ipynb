{
 "cells": [
  {
   "cell_type": "code",
   "execution_count": 1,
   "id": "0593ce11",
   "metadata": {
    "execution": {
     "iopub.execute_input": "2022-03-16T04:36:58.276918Z",
     "iopub.status.busy": "2022-03-16T04:36:58.272070Z",
     "iopub.status.idle": "2022-03-16T04:36:58.320914Z",
     "shell.execute_reply": "2022-03-16T04:36:58.322332Z",
     "shell.execute_reply.started": "2022-03-16T04:32:13.311583Z"
    },
    "papermill": {
     "duration": 0.072603,
     "end_time": "2022-03-16T04:36:58.322749",
     "exception": false,
     "start_time": "2022-03-16T04:36:58.250146",
     "status": "completed"
    },
    "tags": []
   },
   "outputs": [],
   "source": [
    "import numpy as np\n",
    "import pickle\n",
    "\n",
    "with open(\"/kaggle/input/mai-kinda-processed/X.pickle\", \"rb\") as p:\n",
    "    X = pickle.load(p)\n",
    "with open(\"/kaggle/input/mai-kinda-processed/y.pickle\", \"rb\") as p:\n",
    "    y = pickle.load(p)"
   ]
  },
  {
   "cell_type": "code",
   "execution_count": 2,
   "id": "674f5c77",
   "metadata": {
    "execution": {
     "iopub.execute_input": "2022-03-16T04:36:58.357741Z",
     "iopub.status.busy": "2022-03-16T04:36:58.357017Z",
     "iopub.status.idle": "2022-03-16T04:36:59.178155Z",
     "shell.execute_reply": "2022-03-16T04:36:59.176978Z",
     "shell.execute_reply.started": "2022-03-16T04:32:13.400069Z"
    },
    "papermill": {
     "duration": 0.839782,
     "end_time": "2022-03-16T04:36:59.178331",
     "exception": false,
     "start_time": "2022-03-16T04:36:58.338549",
     "status": "completed"
    },
    "tags": []
   },
   "outputs": [],
   "source": [
    "embeddings_dict = {}\n",
    "\n",
    "with open(\"/kaggle/input/mai-kinda-processed/mai_w2v.txt\", \"r\") as f:\n",
    "    first = True\n",
    "    for line in f:\n",
    "        if first:\n",
    "            first = False\n",
    "        else:\n",
    "            values = line.split()\n",
    "            word = values[0]\n",
    "            coefs = np.asarray(values[1:])\n",
    "            embeddings_dict[word] = coefs"
   ]
  },
  {
   "cell_type": "code",
   "execution_count": 3,
   "id": "340bfbed",
   "metadata": {
    "execution": {
     "iopub.execute_input": "2022-03-16T04:36:59.207659Z",
     "iopub.status.busy": "2022-03-16T04:36:59.206969Z",
     "iopub.status.idle": "2022-03-16T04:37:04.289730Z",
     "shell.execute_reply": "2022-03-16T04:37:04.288987Z",
     "shell.execute_reply.started": "2022-03-16T04:32:14.346359Z"
    },
    "papermill": {
     "duration": 5.10003,
     "end_time": "2022-03-16T04:37:04.289922",
     "exception": false,
     "start_time": "2022-03-16T04:36:59.189892",
     "status": "completed"
    },
    "tags": []
   },
   "outputs": [
    {
     "name": "stdout",
     "output_type": "stream",
     "text": [
      "Found  3954  unique tokens.\n",
      "Shape of data tensor:  (824, 543)\n"
     ]
    }
   ],
   "source": [
    "from tensorflow.python.keras.preprocessing.text import Tokenizer\n",
    "from tensorflow.python.keras.preprocessing.sequence import pad_sequences\n",
    "\n",
    "tok_obj = Tokenizer()\n",
    "tok_obj.fit_on_texts(X)\n",
    "sequences = tok_obj.texts_to_sequences(X)\n",
    "\n",
    "X = pad_sequences(sequences)\n",
    "\n",
    "print(\"Found \", len(tok_obj.word_index), \" unique tokens.\")\n",
    "print(\"Shape of data tensor: \", X.shape)"
   ]
  },
  {
   "cell_type": "code",
   "execution_count": 4,
   "id": "d10f47ee",
   "metadata": {
    "execution": {
     "iopub.execute_input": "2022-03-16T04:37:04.327060Z",
     "iopub.status.busy": "2022-03-16T04:37:04.326386Z",
     "iopub.status.idle": "2022-03-16T04:37:04.343327Z",
     "shell.execute_reply": "2022-03-16T04:37:04.343812Z",
     "shell.execute_reply.started": "2022-03-16T04:32:19.841046Z"
    },
    "papermill": {
     "duration": 0.038217,
     "end_time": "2022-03-16T04:37:04.343974",
     "exception": false,
     "start_time": "2022-03-16T04:37:04.305757",
     "status": "completed"
    },
    "tags": []
   },
   "outputs": [
    {
     "data": {
      "text/plain": [
       "<HDF5 dataset \"X\": shape (824, 543), type \"<i4\">"
      ]
     },
     "execution_count": 4,
     "metadata": {},
     "output_type": "execute_result"
    }
   ],
   "source": [
    "import h5py\n",
    "\n",
    "h = h5py.File(\"data.hdf5\", \"w\")\n",
    "h.create_dataset(\"X\", data=X, shape=X.shape, compression=\"gzip\")"
   ]
  },
  {
   "cell_type": "code",
   "execution_count": 5,
   "id": "7fbb6450",
   "metadata": {
    "execution": {
     "iopub.execute_input": "2022-03-16T04:37:04.371491Z",
     "iopub.status.busy": "2022-03-16T04:37:04.370561Z",
     "iopub.status.idle": "2022-03-16T04:37:04.642275Z",
     "shell.execute_reply": "2022-03-16T04:37:04.642950Z",
     "shell.execute_reply.started": "2022-03-16T04:32:19.865254Z"
    },
    "papermill": {
     "duration": 0.287588,
     "end_time": "2022-03-16T04:37:04.643387",
     "exception": false,
     "start_time": "2022-03-16T04:37:04.355799",
     "status": "completed"
    },
    "tags": []
   },
   "outputs": [
    {
     "name": "stdout",
     "output_type": "stream",
     "text": [
      "(3955, 100)\n"
     ]
    }
   ],
   "source": [
    "num_words = len(tok_obj.word_index) + 1\n",
    "embedding_matrix = np.zeros((num_words, 100), dtype=np.float16)\n",
    "for word, i in tok_obj.word_index.items():\n",
    "    if i > num_words:\n",
    "        continue\n",
    "    embedding_vector = embeddings_dict.get(word)\n",
    "    if embedding_vector is not None:\n",
    "        embedding_matrix[i] = embedding_vector\n",
    "print(embedding_matrix.shape)"
   ]
  },
  {
   "cell_type": "code",
   "execution_count": 6,
   "id": "013d4f80",
   "metadata": {
    "execution": {
     "iopub.execute_input": "2022-03-16T04:37:04.673346Z",
     "iopub.status.busy": "2022-03-16T04:37:04.672643Z",
     "iopub.status.idle": "2022-03-16T04:37:04.713014Z",
     "shell.execute_reply": "2022-03-16T04:37:04.712479Z",
     "shell.execute_reply.started": "2022-03-16T04:32:20.14627Z"
    },
    "papermill": {
     "duration": 0.056159,
     "end_time": "2022-03-16T04:37:04.713185",
     "exception": false,
     "start_time": "2022-03-16T04:37:04.657026",
     "status": "completed"
    },
    "tags": []
   },
   "outputs": [],
   "source": [
    "h.create_dataset(\"embedding_matrix\", data=embedding_matrix, shape=embedding_matrix.shape, compression=\"gzip\")\n",
    "h.close()"
   ]
  },
  {
   "cell_type": "code",
   "execution_count": 7,
   "id": "fb978383",
   "metadata": {
    "execution": {
     "iopub.execute_input": "2022-03-16T04:37:04.741710Z",
     "iopub.status.busy": "2022-03-16T04:37:04.741069Z",
     "iopub.status.idle": "2022-03-16T04:37:04.895325Z",
     "shell.execute_reply": "2022-03-16T04:37:04.895767Z",
     "shell.execute_reply.started": "2022-03-16T04:32:20.158045Z"
    },
    "papermill": {
     "duration": 0.170118,
     "end_time": "2022-03-16T04:37:04.895969",
     "exception": false,
     "start_time": "2022-03-16T04:37:04.725851",
     "status": "completed"
    },
    "tags": []
   },
   "outputs": [
    {
     "data": {
      "text/plain": [
       "84"
      ]
     },
     "execution_count": 7,
     "metadata": {},
     "output_type": "execute_result"
    }
   ],
   "source": [
    "import gc\n",
    "\n",
    "del X\n",
    "del embedding_matrix\n",
    "gc.collect()"
   ]
  },
  {
   "cell_type": "code",
   "execution_count": 8,
   "id": "5bf07000",
   "metadata": {
    "execution": {
     "iopub.execute_input": "2022-03-16T04:37:04.978541Z",
     "iopub.status.busy": "2022-03-16T04:37:04.940537Z",
     "iopub.status.idle": "2022-03-16T04:37:05.767278Z",
     "shell.execute_reply": "2022-03-16T04:37:05.766555Z",
     "shell.execute_reply.started": "2022-03-16T04:34:34.699957Z"
    },
    "papermill": {
     "duration": 0.858614,
     "end_time": "2022-03-16T04:37:05.767486",
     "exception": false,
     "start_time": "2022-03-16T04:37:04.908872",
     "status": "completed"
    },
    "tags": []
   },
   "outputs": [
    {
     "name": "stdout",
     "output_type": "stream",
     "text": [
      "Found  13857  unique tokens.\n"
     ]
    }
   ],
   "source": [
    "tok_obj.fit_on_texts(y)\n",
    "y = tok_obj.texts_to_sequences(y)\n",
    "\n",
    "print(\"Found \", len(tok_obj.word_index), \" unique tokens.\")"
   ]
  },
  {
   "cell_type": "code",
   "execution_count": 9,
   "id": "31197551",
   "metadata": {
    "execution": {
     "iopub.execute_input": "2022-03-16T04:37:05.824979Z",
     "iopub.status.busy": "2022-03-16T04:37:05.824204Z",
     "iopub.status.idle": "2022-03-16T04:37:05.827083Z",
     "shell.execute_reply": "2022-03-16T04:37:05.827565Z",
     "shell.execute_reply.started": "2022-03-16T04:34:38.441427Z"
    },
    "papermill": {
     "duration": 0.046324,
     "end_time": "2022-03-16T04:37:05.827740",
     "exception": false,
     "start_time": "2022-03-16T04:37:05.781416",
     "status": "completed"
    },
    "tags": []
   },
   "outputs": [],
   "source": [
    "import pickle\n",
    "\n",
    "with open(\"y.pickle\", \"wb\") as p:\n",
    "    pickle.dump(y, p)"
   ]
  },
  {
   "cell_type": "code",
   "execution_count": 10,
   "id": "0b870a80",
   "metadata": {
    "execution": {
     "iopub.execute_input": "2022-03-16T04:37:06.013281Z",
     "iopub.status.busy": "2022-03-16T04:37:06.012620Z",
     "iopub.status.idle": "2022-03-16T04:37:06.016764Z",
     "shell.execute_reply": "2022-03-16T04:37:06.016220Z",
     "shell.execute_reply.started": "2022-03-16T04:34:40.511585Z"
    },
    "papermill": {
     "duration": 0.175946,
     "end_time": "2022-03-16T04:37:06.016899",
     "exception": false,
     "start_time": "2022-03-16T04:37:05.840953",
     "status": "completed"
    },
    "tags": []
   },
   "outputs": [
    {
     "data": {
      "text/plain": [
       "42"
      ]
     },
     "execution_count": 10,
     "metadata": {},
     "output_type": "execute_result"
    }
   ],
   "source": [
    "del y\n",
    "gc.collect()"
   ]
  }
 ],
 "metadata": {
  "kernelspec": {
   "display_name": "Python 3",
   "language": "python",
   "name": "python3"
  },
  "language_info": {
   "codemirror_mode": {
    "name": "ipython",
    "version": 3
   },
   "file_extension": ".py",
   "mimetype": "text/x-python",
   "name": "python",
   "nbconvert_exporter": "python",
   "pygments_lexer": "ipython3",
   "version": "3.7.12"
  },
  "papermill": {
   "default_parameters": {},
   "duration": 20.500835,
   "end_time": "2022-03-16T04:37:09.191299",
   "environment_variables": {},
   "exception": null,
   "input_path": "__notebook__.ipynb",
   "output_path": "__notebook__.ipynb",
   "parameters": {},
   "start_time": "2022-03-16T04:36:48.690464",
   "version": "2.3.3"
  }
 },
 "nbformat": 4,
 "nbformat_minor": 5
}
