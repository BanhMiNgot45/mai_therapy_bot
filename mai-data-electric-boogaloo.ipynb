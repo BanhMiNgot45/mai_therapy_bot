{
 "cells": [
  {
   "cell_type": "code",
   "execution_count": 1,
   "id": "631fff21",
   "metadata": {
    "execution": {
     "iopub.execute_input": "2022-03-16T06:05:30.616843Z",
     "iopub.status.busy": "2022-03-16T06:05:30.615780Z",
     "iopub.status.idle": "2022-03-16T06:05:30.667242Z",
     "shell.execute_reply": "2022-03-16T06:05:30.667725Z",
     "shell.execute_reply.started": "2022-03-16T06:03:52.562469Z"
    },
    "papermill": {
     "duration": 0.067106,
     "end_time": "2022-03-16T06:05:30.668079",
     "exception": false,
     "start_time": "2022-03-16T06:05:30.600973",
     "status": "completed"
    },
    "tags": []
   },
   "outputs": [],
   "source": [
    "import numpy as np\n",
    "import pickle\n",
    "\n",
    "with open(\"/kaggle/input/mai-kinda-processed/X.pickle\", \"rb\") as p:\n",
    "    X = pickle.load(p)\n",
    "with open(\"/kaggle/input/mai-kinda-processed/y.pickle\", \"rb\") as p:\n",
    "    y = pickle.load(p)"
   ]
  },
  {
   "cell_type": "code",
   "execution_count": 2,
   "id": "35d704e7",
   "metadata": {
    "execution": {
     "iopub.execute_input": "2022-03-16T06:05:30.692364Z",
     "iopub.status.busy": "2022-03-16T06:05:30.691447Z",
     "iopub.status.idle": "2022-03-16T06:05:31.333492Z",
     "shell.execute_reply": "2022-03-16T06:05:31.334017Z",
     "shell.execute_reply.started": "2022-03-16T06:03:52.632734Z"
    },
    "papermill": {
     "duration": 0.655562,
     "end_time": "2022-03-16T06:05:31.334197",
     "exception": false,
     "start_time": "2022-03-16T06:05:30.678635",
     "status": "completed"
    },
    "tags": []
   },
   "outputs": [],
   "source": [
    "embeddings_dict = {}\n",
    "\n",
    "with open(\"/kaggle/input/mai-kinda-processed/mai_w2v.txt\", \"r\") as f:\n",
    "    first = True\n",
    "    for line in f:\n",
    "        if first:\n",
    "            first = False\n",
    "        else:\n",
    "            values = line.split()\n",
    "            word = values[0]\n",
    "            coefs = np.asarray(values[1:])\n",
    "            embeddings_dict[word] = coefs"
   ]
  },
  {
   "cell_type": "code",
   "execution_count": 3,
   "id": "c8d4e9d3",
   "metadata": {
    "execution": {
     "iopub.execute_input": "2022-03-16T06:05:31.358349Z",
     "iopub.status.busy": "2022-03-16T06:05:31.357425Z",
     "iopub.status.idle": "2022-03-16T06:05:36.479855Z",
     "shell.execute_reply": "2022-03-16T06:05:36.480504Z",
     "shell.execute_reply.started": "2022-03-16T06:03:53.441852Z"
    },
    "papermill": {
     "duration": 5.136343,
     "end_time": "2022-03-16T06:05:36.480736",
     "exception": false,
     "start_time": "2022-03-16T06:05:31.344393",
     "status": "completed"
    },
    "tags": []
   },
   "outputs": [
    {
     "name": "stdout",
     "output_type": "stream",
     "text": [
      "Found  3954  unique tokens.\n",
      "Shape of data tensor:  (824, 543)\n"
     ]
    }
   ],
   "source": [
    "from tensorflow.python.keras.preprocessing.text import Tokenizer\n",
    "from tensorflow.python.keras.preprocessing.sequence import pad_sequences\n",
    "\n",
    "tok_obj = Tokenizer()\n",
    "tok_obj.fit_on_texts(X)\n",
    "sequences = tok_obj.texts_to_sequences(X)\n",
    "\n",
    "X = pad_sequences(sequences)\n",
    "\n",
    "print(\"Found \", len(tok_obj.word_index), \" unique tokens.\")\n",
    "print(\"Shape of data tensor: \", X.shape)"
   ]
  },
  {
   "cell_type": "code",
   "execution_count": 4,
   "id": "404bb4f8",
   "metadata": {
    "execution": {
     "iopub.execute_input": "2022-03-16T06:05:36.508374Z",
     "iopub.status.busy": "2022-03-16T06:05:36.507562Z",
     "iopub.status.idle": "2022-03-16T06:05:36.511526Z",
     "shell.execute_reply": "2022-03-16T06:05:36.511080Z",
     "shell.execute_reply.started": "2022-03-16T06:04:06.197567Z"
    },
    "papermill": {
     "duration": 0.01878,
     "end_time": "2022-03-16T06:05:36.511654",
     "exception": false,
     "start_time": "2022-03-16T06:05:36.492874",
     "status": "completed"
    },
    "tags": []
   },
   "outputs": [],
   "source": [
    "with open(\"X_index.pickle\", \"wb\") as p:\n",
    "    pickle.dump(tok_obj.word_index, p)"
   ]
  },
  {
   "cell_type": "code",
   "execution_count": 5,
   "id": "3758864f",
   "metadata": {
    "execution": {
     "iopub.execute_input": "2022-03-16T06:05:36.536161Z",
     "iopub.status.busy": "2022-03-16T06:05:36.535523Z",
     "iopub.status.idle": "2022-03-16T06:05:36.558277Z",
     "shell.execute_reply": "2022-03-16T06:05:36.557795Z",
     "shell.execute_reply.started": "2022-03-16T06:04:08.852203Z"
    },
    "papermill": {
     "duration": 0.035918,
     "end_time": "2022-03-16T06:05:36.558411",
     "exception": false,
     "start_time": "2022-03-16T06:05:36.522493",
     "status": "completed"
    },
    "tags": []
   },
   "outputs": [
    {
     "data": {
      "text/plain": [
       "<HDF5 dataset \"X\": shape (824, 543), type \"<i4\">"
      ]
     },
     "execution_count": 5,
     "metadata": {},
     "output_type": "execute_result"
    }
   ],
   "source": [
    "import h5py\n",
    "\n",
    "h = h5py.File(\"data.hdf5\", \"w\")\n",
    "h.create_dataset(\"X\", data=X, shape=X.shape, compression=\"gzip\")"
   ]
  },
  {
   "cell_type": "code",
   "execution_count": 6,
   "id": "949f6005",
   "metadata": {
    "execution": {
     "iopub.execute_input": "2022-03-16T06:05:36.595974Z",
     "iopub.status.busy": "2022-03-16T06:05:36.585186Z",
     "iopub.status.idle": "2022-03-16T06:05:36.734742Z",
     "shell.execute_reply": "2022-03-16T06:05:36.735214Z",
     "shell.execute_reply.started": "2022-03-16T06:04:11.179519Z"
    },
    "papermill": {
     "duration": 0.166113,
     "end_time": "2022-03-16T06:05:36.735372",
     "exception": false,
     "start_time": "2022-03-16T06:05:36.569259",
     "status": "completed"
    },
    "tags": []
   },
   "outputs": [
    {
     "name": "stdout",
     "output_type": "stream",
     "text": [
      "(3955, 100)\n"
     ]
    }
   ],
   "source": [
    "num_words = len(tok_obj.word_index) + 1\n",
    "embedding_matrix = np.zeros((num_words, 100), dtype=np.float16)\n",
    "for word, i in tok_obj.word_index.items():\n",
    "    if i > num_words:\n",
    "        continue\n",
    "    embedding_vector = embeddings_dict.get(word)\n",
    "    if embedding_vector is not None:\n",
    "        embedding_matrix[i] = embedding_vector\n",
    "print(embedding_matrix.shape)"
   ]
  },
  {
   "cell_type": "code",
   "execution_count": 7,
   "id": "3741083b",
   "metadata": {
    "execution": {
     "iopub.execute_input": "2022-03-16T06:05:36.763017Z",
     "iopub.status.busy": "2022-03-16T06:05:36.762391Z",
     "iopub.status.idle": "2022-03-16T06:05:36.800881Z",
     "shell.execute_reply": "2022-03-16T06:05:36.800227Z",
     "shell.execute_reply.started": "2022-03-16T06:04:14.377982Z"
    },
    "papermill": {
     "duration": 0.054499,
     "end_time": "2022-03-16T06:05:36.801012",
     "exception": false,
     "start_time": "2022-03-16T06:05:36.746513",
     "status": "completed"
    },
    "tags": []
   },
   "outputs": [],
   "source": [
    "h.create_dataset(\"embedding_matrix\", data=embedding_matrix, shape=embedding_matrix.shape, compression=\"gzip\")\n",
    "h.close()"
   ]
  },
  {
   "cell_type": "code",
   "execution_count": 8,
   "id": "b26d86d0",
   "metadata": {
    "execution": {
     "iopub.execute_input": "2022-03-16T06:05:36.975964Z",
     "iopub.status.busy": "2022-03-16T06:05:36.975311Z",
     "iopub.status.idle": "2022-03-16T06:05:36.978160Z",
     "shell.execute_reply": "2022-03-16T06:05:36.977605Z",
     "shell.execute_reply.started": "2022-03-16T06:04:16.833219Z"
    },
    "papermill": {
     "duration": 0.166242,
     "end_time": "2022-03-16T06:05:36.978286",
     "exception": false,
     "start_time": "2022-03-16T06:05:36.812044",
     "status": "completed"
    },
    "tags": []
   },
   "outputs": [
    {
     "data": {
      "text/plain": [
       "105"
      ]
     },
     "execution_count": 8,
     "metadata": {},
     "output_type": "execute_result"
    }
   ],
   "source": [
    "import gc\n",
    "\n",
    "del X\n",
    "del embedding_matrix\n",
    "gc.collect()"
   ]
  },
  {
   "cell_type": "code",
   "execution_count": 9,
   "id": "f4f17340",
   "metadata": {
    "execution": {
     "iopub.execute_input": "2022-03-16T06:05:37.005038Z",
     "iopub.status.busy": "2022-03-16T06:05:37.004451Z",
     "iopub.status.idle": "2022-03-16T06:05:37.750147Z",
     "shell.execute_reply": "2022-03-16T06:05:37.750582Z",
     "shell.execute_reply.started": "2022-03-16T06:04:19.637351Z"
    },
    "papermill": {
     "duration": 0.760587,
     "end_time": "2022-03-16T06:05:37.750742",
     "exception": false,
     "start_time": "2022-03-16T06:05:36.990155",
     "status": "completed"
    },
    "tags": []
   },
   "outputs": [
    {
     "name": "stdout",
     "output_type": "stream",
     "text": [
      "Found  13857  unique tokens.\n"
     ]
    }
   ],
   "source": [
    "tok_obj.fit_on_texts(y)\n",
    "sequences = tok_obj.texts_to_sequences(y)\n",
    "\n",
    "y = pad_sequences(sequences)\n",
    "\n",
    "print(\"Found \", len(tok_obj.word_index), \" unique tokens.\")"
   ]
  },
  {
   "cell_type": "code",
   "execution_count": 10,
   "id": "4eda1de4",
   "metadata": {
    "execution": {
     "iopub.execute_input": "2022-03-16T06:05:37.776906Z",
     "iopub.status.busy": "2022-03-16T06:05:37.776352Z",
     "iopub.status.idle": "2022-03-16T06:05:37.784503Z",
     "shell.execute_reply": "2022-03-16T06:05:37.784970Z",
     "shell.execute_reply.started": "2022-03-16T06:04:24.673847Z"
    },
    "papermill": {
     "duration": 0.022863,
     "end_time": "2022-03-16T06:05:37.785145",
     "exception": false,
     "start_time": "2022-03-16T06:05:37.762282",
     "status": "completed"
    },
    "tags": []
   },
   "outputs": [],
   "source": [
    "with open(\"y_index.pickle\", \"wb\") as p:\n",
    "    pickle.dump(tok_obj.word_index, p)"
   ]
  },
  {
   "cell_type": "code",
   "execution_count": 11,
   "id": "6c3e5a2f",
   "metadata": {
    "execution": {
     "iopub.execute_input": "2022-03-16T06:05:37.812607Z",
     "iopub.status.busy": "2022-03-16T06:05:37.812007Z",
     "iopub.status.idle": "2022-03-16T06:05:37.880373Z",
     "shell.execute_reply": "2022-03-16T06:05:37.879858Z",
     "shell.execute_reply.started": "2022-03-16T06:04:27.280795Z"
    },
    "papermill": {
     "duration": 0.083159,
     "end_time": "2022-03-16T06:05:37.880517",
     "exception": false,
     "start_time": "2022-03-16T06:05:37.797358",
     "status": "completed"
    },
    "tags": []
   },
   "outputs": [],
   "source": [
    "import pickle\n",
    "\n",
    "with open(\"y.pickle\", \"wb\") as p:\n",
    "    pickle.dump(y, p)"
   ]
  },
  {
   "cell_type": "code",
   "execution_count": 12,
   "id": "a78b368f",
   "metadata": {
    "execution": {
     "iopub.execute_input": "2022-03-16T06:05:38.059762Z",
     "iopub.status.busy": "2022-03-16T06:05:38.059149Z",
     "iopub.status.idle": "2022-03-16T06:05:38.062942Z",
     "shell.execute_reply": "2022-03-16T06:05:38.062336Z",
     "shell.execute_reply.started": "2022-03-16T06:04:29.394919Z"
    },
    "papermill": {
     "duration": 0.170814,
     "end_time": "2022-03-16T06:05:38.063077",
     "exception": false,
     "start_time": "2022-03-16T06:05:37.892263",
     "status": "completed"
    },
    "tags": []
   },
   "outputs": [
    {
     "data": {
      "text/plain": [
       "63"
      ]
     },
     "execution_count": 12,
     "metadata": {},
     "output_type": "execute_result"
    }
   ],
   "source": [
    "del y\n",
    "gc.collect()"
   ]
  }
 ],
 "metadata": {
  "kernelspec": {
   "display_name": "Python 3",
   "language": "python",
   "name": "python3"
  },
  "language_info": {
   "codemirror_mode": {
    "name": "ipython",
    "version": 3
   },
   "file_extension": ".py",
   "mimetype": "text/x-python",
   "name": "python",
   "nbconvert_exporter": "python",
   "pygments_lexer": "ipython3",
   "version": "3.7.12"
  },
  "papermill": {
   "default_parameters": {},
   "duration": 19.505155,
   "end_time": "2022-03-16T06:05:41.525336",
   "environment_variables": {},
   "exception": null,
   "input_path": "__notebook__.ipynb",
   "output_path": "__notebook__.ipynb",
   "parameters": {},
   "start_time": "2022-03-16T06:05:22.020181",
   "version": "2.3.3"
  }
 },
 "nbformat": 4,
 "nbformat_minor": 5
}
