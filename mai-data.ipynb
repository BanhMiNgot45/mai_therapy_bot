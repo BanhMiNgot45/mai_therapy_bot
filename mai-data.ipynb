{
 "cells": [
  {
   "cell_type": "code",
   "execution_count": 1,
   "id": "db690e34",
   "metadata": {
    "execution": {
     "iopub.execute_input": "2022-03-16T03:38:50.307669Z",
     "iopub.status.busy": "2022-03-16T03:38:50.307098Z",
     "iopub.status.idle": "2022-03-16T03:38:50.411512Z",
     "shell.execute_reply": "2022-03-16T03:38:50.412011Z",
     "shell.execute_reply.started": "2022-03-16T03:35:41.182831Z"
    },
    "papermill": {
     "duration": 0.125647,
     "end_time": "2022-03-16T03:38:50.412307",
     "exception": false,
     "start_time": "2022-03-16T03:38:50.286660",
     "status": "completed"
    },
    "tags": []
   },
   "outputs": [
    {
     "data": {
      "text/html": [
       "<div>\n",
       "<style scoped>\n",
       "    .dataframe tbody tr th:only-of-type {\n",
       "        vertical-align: middle;\n",
       "    }\n",
       "\n",
       "    .dataframe tbody tr th {\n",
       "        vertical-align: top;\n",
       "    }\n",
       "\n",
       "    .dataframe thead th {\n",
       "        text-align: right;\n",
       "    }\n",
       "</style>\n",
       "<table border=\"1\" class=\"dataframe\">\n",
       "  <thead>\n",
       "    <tr style=\"text-align: right;\">\n",
       "      <th></th>\n",
       "      <th>Unnamed: 0</th>\n",
       "      <th>questionID</th>\n",
       "      <th>questionTitle</th>\n",
       "      <th>questionText</th>\n",
       "      <th>questionLink</th>\n",
       "      <th>topic</th>\n",
       "      <th>therapistInfo</th>\n",
       "      <th>therapistURL</th>\n",
       "      <th>answerText</th>\n",
       "      <th>upvotes</th>\n",
       "      <th>views</th>\n",
       "      <th>split</th>\n",
       "    </tr>\n",
       "  </thead>\n",
       "  <tbody>\n",
       "    <tr>\n",
       "      <th>0</th>\n",
       "      <td>0</td>\n",
       "      <td>0</td>\n",
       "      <td>Can I change my feeling of being worthless to ...</td>\n",
       "      <td>I'm going through some things with my feelings...</td>\n",
       "      <td>https://counselchat.com/questions/can-i-change...</td>\n",
       "      <td>depression</td>\n",
       "      <td>Sherry Katz, LCSWCouples and Family Therapist,...</td>\n",
       "      <td>https://counselchat.com/therapists/sherry-katz...</td>\n",
       "      <td>If everyone thinks you're worthless, then mayb...</td>\n",
       "      <td>1</td>\n",
       "      <td>2899</td>\n",
       "      <td>train</td>\n",
       "    </tr>\n",
       "    <tr>\n",
       "      <th>1</th>\n",
       "      <td>1</td>\n",
       "      <td>0</td>\n",
       "      <td>Can I change my feeling of being worthless to ...</td>\n",
       "      <td>I'm going through some things with my feelings...</td>\n",
       "      <td>https://counselchat.com/questions/can-i-change...</td>\n",
       "      <td>depression</td>\n",
       "      <td>Robin Landwehr, DBH, LPCC, NCCMental Health in...</td>\n",
       "      <td>https://counselchat.com/therapists/robin-landw...</td>\n",
       "      <td>Hello, and thank you for your question and see...</td>\n",
       "      <td>1</td>\n",
       "      <td>3514</td>\n",
       "      <td>train</td>\n",
       "    </tr>\n",
       "    <tr>\n",
       "      <th>2</th>\n",
       "      <td>2</td>\n",
       "      <td>0</td>\n",
       "      <td>Can I change my feeling of being worthless to ...</td>\n",
       "      <td>I'm going through some things with my feelings...</td>\n",
       "      <td>https://counselchat.com/questions/can-i-change...</td>\n",
       "      <td>depression</td>\n",
       "      <td>Lee KingI use an integrative approach to treat...</td>\n",
       "      <td>https://counselchat.com/therapists/lee-king</td>\n",
       "      <td>First thing I'd suggest is getting the sleep y...</td>\n",
       "      <td>0</td>\n",
       "      <td>5</td>\n",
       "      <td>train</td>\n",
       "    </tr>\n",
       "    <tr>\n",
       "      <th>3</th>\n",
       "      <td>3</td>\n",
       "      <td>0</td>\n",
       "      <td>Can I change my feeling of being worthless to ...</td>\n",
       "      <td>I'm going through some things with my feelings...</td>\n",
       "      <td>https://counselchat.com/questions/can-i-change...</td>\n",
       "      <td>depression</td>\n",
       "      <td>Shauntai Davis-YearginPersonalized, private on...</td>\n",
       "      <td>https://counselchat.com/therapists/shauntai-da...</td>\n",
       "      <td>Therapy is essential for those that are feelin...</td>\n",
       "      <td>0</td>\n",
       "      <td>31</td>\n",
       "      <td>train</td>\n",
       "    </tr>\n",
       "    <tr>\n",
       "      <th>4</th>\n",
       "      <td>4</td>\n",
       "      <td>0</td>\n",
       "      <td>Can I change my feeling of being worthless to ...</td>\n",
       "      <td>I'm going through some things with my feelings...</td>\n",
       "      <td>https://counselchat.com/questions/can-i-change...</td>\n",
       "      <td>depression</td>\n",
       "      <td>Jordan WhiteLicensed Social Worker at Oak Root...</td>\n",
       "      <td>https://counselchat.com/therapists/jordan-white</td>\n",
       "      <td>I first want to let you know that you are not ...</td>\n",
       "      <td>0</td>\n",
       "      <td>620</td>\n",
       "      <td>train</td>\n",
       "    </tr>\n",
       "  </tbody>\n",
       "</table>\n",
       "</div>"
      ],
      "text/plain": [
       "   Unnamed: 0  questionID                                      questionTitle  \\\n",
       "0           0           0  Can I change my feeling of being worthless to ...   \n",
       "1           1           0  Can I change my feeling of being worthless to ...   \n",
       "2           2           0  Can I change my feeling of being worthless to ...   \n",
       "3           3           0  Can I change my feeling of being worthless to ...   \n",
       "4           4           0  Can I change my feeling of being worthless to ...   \n",
       "\n",
       "                                        questionText  \\\n",
       "0  I'm going through some things with my feelings...   \n",
       "1  I'm going through some things with my feelings...   \n",
       "2  I'm going through some things with my feelings...   \n",
       "3  I'm going through some things with my feelings...   \n",
       "4  I'm going through some things with my feelings...   \n",
       "\n",
       "                                        questionLink       topic  \\\n",
       "0  https://counselchat.com/questions/can-i-change...  depression   \n",
       "1  https://counselchat.com/questions/can-i-change...  depression   \n",
       "2  https://counselchat.com/questions/can-i-change...  depression   \n",
       "3  https://counselchat.com/questions/can-i-change...  depression   \n",
       "4  https://counselchat.com/questions/can-i-change...  depression   \n",
       "\n",
       "                                       therapistInfo  \\\n",
       "0  Sherry Katz, LCSWCouples and Family Therapist,...   \n",
       "1  Robin Landwehr, DBH, LPCC, NCCMental Health in...   \n",
       "2  Lee KingI use an integrative approach to treat...   \n",
       "3  Shauntai Davis-YearginPersonalized, private on...   \n",
       "4  Jordan WhiteLicensed Social Worker at Oak Root...   \n",
       "\n",
       "                                        therapistURL  \\\n",
       "0  https://counselchat.com/therapists/sherry-katz...   \n",
       "1  https://counselchat.com/therapists/robin-landw...   \n",
       "2        https://counselchat.com/therapists/lee-king   \n",
       "3  https://counselchat.com/therapists/shauntai-da...   \n",
       "4    https://counselchat.com/therapists/jordan-white   \n",
       "\n",
       "                                          answerText  upvotes  views  split  \n",
       "0  If everyone thinks you're worthless, then mayb...        1   2899  train  \n",
       "1  Hello, and thank you for your question and see...        1   3514  train  \n",
       "2  First thing I'd suggest is getting the sleep y...        0      5  train  \n",
       "3  Therapy is essential for those that are feelin...        0     31  train  \n",
       "4  I first want to let you know that you are not ...        0    620  train  "
      ]
     },
     "execution_count": 1,
     "metadata": {},
     "output_type": "execute_result"
    }
   ],
   "source": [
    "import numpy as np\n",
    "import pandas as pd\n",
    "\n",
    "df = pd.read_csv(\"/kaggle/input/mai-preprocessed/mai.csv\")\n",
    "df.head()"
   ]
  },
  {
   "cell_type": "code",
   "execution_count": 2,
   "id": "34f1198e",
   "metadata": {
    "execution": {
     "iopub.execute_input": "2022-03-16T03:38:50.439756Z",
     "iopub.status.busy": "2022-03-16T03:38:50.439109Z",
     "iopub.status.idle": "2022-03-16T03:38:50.445158Z",
     "shell.execute_reply": "2022-03-16T03:38:50.445673Z",
     "shell.execute_reply.started": "2022-03-16T03:35:41.306816Z"
    },
    "papermill": {
     "duration": 0.021164,
     "end_time": "2022-03-16T03:38:50.445828",
     "exception": false,
     "start_time": "2022-03-16T03:38:50.424664",
     "status": "completed"
    },
    "tags": []
   },
   "outputs": [],
   "source": [
    "qTitle = df[\"questionTitle\"]\n",
    "qText = df[\"questionText\"]\n",
    "aText = df[\"answerText\"]"
   ]
  },
  {
   "cell_type": "code",
   "execution_count": 3,
   "id": "9e7b2b0e",
   "metadata": {
    "execution": {
     "iopub.execute_input": "2022-03-16T03:38:50.472096Z",
     "iopub.status.busy": "2022-03-16T03:38:50.471551Z",
     "iopub.status.idle": "2022-03-16T03:38:50.477809Z",
     "shell.execute_reply": "2022-03-16T03:38:50.477315Z",
     "shell.execute_reply.started": "2022-03-16T03:35:41.316964Z"
    },
    "papermill": {
     "duration": 0.020425,
     "end_time": "2022-03-16T03:38:50.477935",
     "exception": false,
     "start_time": "2022-03-16T03:38:50.457510",
     "status": "completed"
    },
    "tags": []
   },
   "outputs": [],
   "source": [
    "l = []\n",
    "for title, text in zip(qTitle, qText):\n",
    "    str = title + \" \" + text\n",
    "    l.append(str)"
   ]
  },
  {
   "cell_type": "code",
   "execution_count": 4,
   "id": "a3ce84e2",
   "metadata": {
    "execution": {
     "iopub.execute_input": "2022-03-16T03:38:50.505589Z",
     "iopub.status.busy": "2022-03-16T03:38:50.504965Z",
     "iopub.status.idle": "2022-03-16T03:38:50.506388Z",
     "shell.execute_reply": "2022-03-16T03:38:50.506969Z",
     "shell.execute_reply.started": "2022-03-16T03:35:41.327474Z"
    },
    "papermill": {
     "duration": 0.018177,
     "end_time": "2022-03-16T03:38:50.507117",
     "exception": false,
     "start_time": "2022-03-16T03:38:50.488940",
     "status": "completed"
    },
    "tags": []
   },
   "outputs": [],
   "source": [
    "def list_duplicates_of(seq,item):\n",
    "    start_at = -1\n",
    "    locs = []\n",
    "    while True:\n",
    "        try:\n",
    "            loc = seq.index(item,start_at+1)\n",
    "        except ValueError:\n",
    "            break\n",
    "        else:\n",
    "            locs.append(loc)\n",
    "            start_at = loc\n",
    "    return locs"
   ]
  },
  {
   "cell_type": "code",
   "execution_count": 5,
   "id": "77f24fd4",
   "metadata": {
    "execution": {
     "iopub.execute_input": "2022-03-16T03:38:50.532604Z",
     "iopub.status.busy": "2022-03-16T03:38:50.531989Z",
     "iopub.status.idle": "2022-03-16T03:38:50.605537Z",
     "shell.execute_reply": "2022-03-16T03:38:50.604668Z",
     "shell.execute_reply.started": "2022-03-16T03:35:41.338723Z"
    },
    "papermill": {
     "duration": 0.087261,
     "end_time": "2022-03-16T03:38:50.605772",
     "exception": false,
     "start_time": "2022-03-16T03:38:50.518511",
     "status": "completed"
    },
    "tags": []
   },
   "outputs": [],
   "source": [
    "li = []\n",
    "lis = []\n",
    "for x in set(l):\n",
    "    li.append(x)\n",
    "    dupes = list_duplicates_of(l, x)\n",
    "    answer = \"\"\n",
    "    for num in dupes:\n",
    "        answer += aText.iloc[num] + \" \"\n",
    "    lis.append(answer.strip())"
   ]
  },
  {
   "cell_type": "code",
   "execution_count": 6,
   "id": "3791e53d",
   "metadata": {
    "execution": {
     "iopub.execute_input": "2022-03-16T03:38:50.640571Z",
     "iopub.status.busy": "2022-03-16T03:38:50.638774Z",
     "iopub.status.idle": "2022-03-16T03:38:50.643983Z",
     "shell.execute_reply": "2022-03-16T03:38:50.644492Z",
     "shell.execute_reply.started": "2022-03-16T03:35:41.397355Z"
    },
    "papermill": {
     "duration": 0.024216,
     "end_time": "2022-03-16T03:38:50.644656",
     "exception": false,
     "start_time": "2022-03-16T03:38:50.620440",
     "status": "completed"
    },
    "tags": []
   },
   "outputs": [],
   "source": [
    "q = pd.Series(li)\n",
    "a = pd.Series(lis)"
   ]
  },
  {
   "cell_type": "code",
   "execution_count": 7,
   "id": "7204d07b",
   "metadata": {
    "execution": {
     "iopub.execute_input": "2022-03-16T03:38:50.673930Z",
     "iopub.status.busy": "2022-03-16T03:38:50.673187Z",
     "iopub.status.idle": "2022-03-16T03:38:57.690551Z",
     "shell.execute_reply": "2022-03-16T03:38:57.690035Z",
     "shell.execute_reply.started": "2022-03-16T03:35:41.402358Z"
    },
    "papermill": {
     "duration": 7.034523,
     "end_time": "2022-03-16T03:38:57.690684",
     "exception": false,
     "start_time": "2022-03-16T03:38:50.656161",
     "status": "completed"
    },
    "tags": []
   },
   "outputs": [],
   "source": [
    "import nltk\n",
    "\n",
    "doc = []\n",
    "X = []\n",
    "y = []\n",
    "for raw_text in q:\n",
    "    X.append(raw_text)\n",
    "    doc.append(nltk.word_tokenize(raw_text))\n",
    "for raw_text in a:\n",
    "    y.append(raw_text)\n",
    "    doc.append(nltk.word_tokenize(raw_text))"
   ]
  },
  {
   "cell_type": "code",
   "execution_count": 8,
   "id": "8a6456d4",
   "metadata": {
    "execution": {
     "iopub.execute_input": "2022-03-16T03:38:57.718820Z",
     "iopub.status.busy": "2022-03-16T03:38:57.718212Z",
     "iopub.status.idle": "2022-03-16T03:39:00.546619Z",
     "shell.execute_reply": "2022-03-16T03:39:00.545976Z",
     "shell.execute_reply.started": "2022-03-16T03:35:56.428172Z"
    },
    "papermill": {
     "duration": 2.843811,
     "end_time": "2022-03-16T03:39:00.546759",
     "exception": false,
     "start_time": "2022-03-16T03:38:57.702948",
     "status": "completed"
    },
    "tags": []
   },
   "outputs": [],
   "source": [
    "from gensim.models import Word2Vec\n",
    "\n",
    "model = Word2Vec(doc, min_count=1, window=5, vector_size=100)"
   ]
  },
  {
   "cell_type": "code",
   "execution_count": 9,
   "id": "43f2ad40",
   "metadata": {
    "execution": {
     "iopub.execute_input": "2022-03-16T03:39:00.597401Z",
     "iopub.status.busy": "2022-03-16T03:39:00.596437Z",
     "iopub.status.idle": "2022-03-16T03:39:02.051136Z",
     "shell.execute_reply": "2022-03-16T03:39:02.051698Z",
     "shell.execute_reply.started": "2022-03-16T03:36:00.303493Z"
    },
    "papermill": {
     "duration": 1.493006,
     "end_time": "2022-03-16T03:39:02.051889",
     "exception": false,
     "start_time": "2022-03-16T03:39:00.558883",
     "status": "completed"
    },
    "tags": []
   },
   "outputs": [],
   "source": [
    "filename = \"mai_w2v.txt\"\n",
    "model.wv.save_word2vec_format(filename, binary=False)"
   ]
  },
  {
   "cell_type": "code",
   "execution_count": 10,
   "id": "c1be933c",
   "metadata": {
    "execution": {
     "iopub.execute_input": "2022-03-16T03:39:02.081146Z",
     "iopub.status.busy": "2022-03-16T03:39:02.080535Z",
     "iopub.status.idle": "2022-03-16T03:39:02.090525Z",
     "shell.execute_reply": "2022-03-16T03:39:02.090962Z",
     "shell.execute_reply.started": "2022-03-16T03:36:03.105346Z"
    },
    "papermill": {
     "duration": 0.027487,
     "end_time": "2022-03-16T03:39:02.091116",
     "exception": false,
     "start_time": "2022-03-16T03:39:02.063629",
     "status": "completed"
    },
    "tags": []
   },
   "outputs": [],
   "source": [
    "import pickle\n",
    "\n",
    "with open(\"X.pickle\", \"wb\") as p:\n",
    "    pickle.dump(X, p)\n",
    "with open(\"y.pickle\", \"wb\") as p:\n",
    "    pickle.dump(y, p)"
   ]
  }
 ],
 "metadata": {
  "kernelspec": {
   "display_name": "Python 3",
   "language": "python",
   "name": "python3"
  },
  "language_info": {
   "codemirror_mode": {
    "name": "ipython",
    "version": 3
   },
   "file_extension": ".py",
   "mimetype": "text/x-python",
   "name": "python",
   "nbconvert_exporter": "python",
   "pygments_lexer": "ipython3",
   "version": "3.7.12"
  },
  "papermill": {
   "default_parameters": {},
   "duration": 21.805917,
   "end_time": "2022-03-16T03:39:02.812123",
   "environment_variables": {},
   "exception": null,
   "input_path": "__notebook__.ipynb",
   "output_path": "__notebook__.ipynb",
   "parameters": {},
   "start_time": "2022-03-16T03:38:41.006206",
   "version": "2.3.3"
  }
 },
 "nbformat": 4,
 "nbformat_minor": 5
}
