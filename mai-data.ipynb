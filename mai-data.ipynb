{
 "cells": [
  {
   "cell_type": "code",
   "execution_count": 1,
   "id": "a1393fae",
   "metadata": {
    "execution": {
     "iopub.execute_input": "2022-03-16T15:12:25.283897Z",
     "iopub.status.busy": "2022-03-16T15:12:25.282703Z",
     "iopub.status.idle": "2022-03-16T15:12:25.402313Z",
     "shell.execute_reply": "2022-03-16T15:12:25.402775Z",
     "shell.execute_reply.started": "2022-03-16T15:11:18.033757Z"
    },
    "papermill": {
     "duration": 0.132115,
     "end_time": "2022-03-16T15:12:25.403059",
     "exception": false,
     "start_time": "2022-03-16T15:12:25.270944",
     "status": "completed"
    },
    "tags": []
   },
   "outputs": [
    {
     "data": {
      "text/html": [
       "<div>\n",
       "<style scoped>\n",
       "    .dataframe tbody tr th:only-of-type {\n",
       "        vertical-align: middle;\n",
       "    }\n",
       "\n",
       "    .dataframe tbody tr th {\n",
       "        vertical-align: top;\n",
       "    }\n",
       "\n",
       "    .dataframe thead th {\n",
       "        text-align: right;\n",
       "    }\n",
       "</style>\n",
       "<table border=\"1\" class=\"dataframe\">\n",
       "  <thead>\n",
       "    <tr style=\"text-align: right;\">\n",
       "      <th></th>\n",
       "      <th>Unnamed: 0</th>\n",
       "      <th>questionID</th>\n",
       "      <th>questionTitle</th>\n",
       "      <th>questionText</th>\n",
       "      <th>questionLink</th>\n",
       "      <th>topic</th>\n",
       "      <th>therapistInfo</th>\n",
       "      <th>therapistURL</th>\n",
       "      <th>answerText</th>\n",
       "      <th>upvotes</th>\n",
       "      <th>views</th>\n",
       "      <th>split</th>\n",
       "    </tr>\n",
       "  </thead>\n",
       "  <tbody>\n",
       "    <tr>\n",
       "      <th>0</th>\n",
       "      <td>0</td>\n",
       "      <td>0</td>\n",
       "      <td>Can I change my feeling of being worthless to ...</td>\n",
       "      <td>I'm going through some things with my feelings...</td>\n",
       "      <td>https://counselchat.com/questions/can-i-change...</td>\n",
       "      <td>depression</td>\n",
       "      <td>Sherry Katz, LCSWCouples and Family Therapist,...</td>\n",
       "      <td>https://counselchat.com/therapists/sherry-katz...</td>\n",
       "      <td>If everyone thinks you're worthless, then mayb...</td>\n",
       "      <td>1</td>\n",
       "      <td>2899</td>\n",
       "      <td>train</td>\n",
       "    </tr>\n",
       "    <tr>\n",
       "      <th>1</th>\n",
       "      <td>1</td>\n",
       "      <td>0</td>\n",
       "      <td>Can I change my feeling of being worthless to ...</td>\n",
       "      <td>I'm going through some things with my feelings...</td>\n",
       "      <td>https://counselchat.com/questions/can-i-change...</td>\n",
       "      <td>depression</td>\n",
       "      <td>Robin Landwehr, DBH, LPCC, NCCMental Health in...</td>\n",
       "      <td>https://counselchat.com/therapists/robin-landw...</td>\n",
       "      <td>Hello, and thank you for your question and see...</td>\n",
       "      <td>1</td>\n",
       "      <td>3514</td>\n",
       "      <td>train</td>\n",
       "    </tr>\n",
       "    <tr>\n",
       "      <th>2</th>\n",
       "      <td>2</td>\n",
       "      <td>0</td>\n",
       "      <td>Can I change my feeling of being worthless to ...</td>\n",
       "      <td>I'm going through some things with my feelings...</td>\n",
       "      <td>https://counselchat.com/questions/can-i-change...</td>\n",
       "      <td>depression</td>\n",
       "      <td>Lee KingI use an integrative approach to treat...</td>\n",
       "      <td>https://counselchat.com/therapists/lee-king</td>\n",
       "      <td>First thing I'd suggest is getting the sleep y...</td>\n",
       "      <td>0</td>\n",
       "      <td>5</td>\n",
       "      <td>train</td>\n",
       "    </tr>\n",
       "    <tr>\n",
       "      <th>3</th>\n",
       "      <td>3</td>\n",
       "      <td>0</td>\n",
       "      <td>Can I change my feeling of being worthless to ...</td>\n",
       "      <td>I'm going through some things with my feelings...</td>\n",
       "      <td>https://counselchat.com/questions/can-i-change...</td>\n",
       "      <td>depression</td>\n",
       "      <td>Shauntai Davis-YearginPersonalized, private on...</td>\n",
       "      <td>https://counselchat.com/therapists/shauntai-da...</td>\n",
       "      <td>Therapy is essential for those that are feelin...</td>\n",
       "      <td>0</td>\n",
       "      <td>31</td>\n",
       "      <td>train</td>\n",
       "    </tr>\n",
       "    <tr>\n",
       "      <th>4</th>\n",
       "      <td>4</td>\n",
       "      <td>0</td>\n",
       "      <td>Can I change my feeling of being worthless to ...</td>\n",
       "      <td>I'm going through some things with my feelings...</td>\n",
       "      <td>https://counselchat.com/questions/can-i-change...</td>\n",
       "      <td>depression</td>\n",
       "      <td>Jordan WhiteLicensed Social Worker at Oak Root...</td>\n",
       "      <td>https://counselchat.com/therapists/jordan-white</td>\n",
       "      <td>I first want to let you know that you are not ...</td>\n",
       "      <td>0</td>\n",
       "      <td>620</td>\n",
       "      <td>train</td>\n",
       "    </tr>\n",
       "  </tbody>\n",
       "</table>\n",
       "</div>"
      ],
      "text/plain": [
       "   Unnamed: 0  questionID                                      questionTitle  \\\n",
       "0           0           0  Can I change my feeling of being worthless to ...   \n",
       "1           1           0  Can I change my feeling of being worthless to ...   \n",
       "2           2           0  Can I change my feeling of being worthless to ...   \n",
       "3           3           0  Can I change my feeling of being worthless to ...   \n",
       "4           4           0  Can I change my feeling of being worthless to ...   \n",
       "\n",
       "                                        questionText  \\\n",
       "0  I'm going through some things with my feelings...   \n",
       "1  I'm going through some things with my feelings...   \n",
       "2  I'm going through some things with my feelings...   \n",
       "3  I'm going through some things with my feelings...   \n",
       "4  I'm going through some things with my feelings...   \n",
       "\n",
       "                                        questionLink       topic  \\\n",
       "0  https://counselchat.com/questions/can-i-change...  depression   \n",
       "1  https://counselchat.com/questions/can-i-change...  depression   \n",
       "2  https://counselchat.com/questions/can-i-change...  depression   \n",
       "3  https://counselchat.com/questions/can-i-change...  depression   \n",
       "4  https://counselchat.com/questions/can-i-change...  depression   \n",
       "\n",
       "                                       therapistInfo  \\\n",
       "0  Sherry Katz, LCSWCouples and Family Therapist,...   \n",
       "1  Robin Landwehr, DBH, LPCC, NCCMental Health in...   \n",
       "2  Lee KingI use an integrative approach to treat...   \n",
       "3  Shauntai Davis-YearginPersonalized, private on...   \n",
       "4  Jordan WhiteLicensed Social Worker at Oak Root...   \n",
       "\n",
       "                                        therapistURL  \\\n",
       "0  https://counselchat.com/therapists/sherry-katz...   \n",
       "1  https://counselchat.com/therapists/robin-landw...   \n",
       "2        https://counselchat.com/therapists/lee-king   \n",
       "3  https://counselchat.com/therapists/shauntai-da...   \n",
       "4    https://counselchat.com/therapists/jordan-white   \n",
       "\n",
       "                                          answerText  upvotes  views  split  \n",
       "0  If everyone thinks you're worthless, then mayb...        1   2899  train  \n",
       "1  Hello, and thank you for your question and see...        1   3514  train  \n",
       "2  First thing I'd suggest is getting the sleep y...        0      5  train  \n",
       "3  Therapy is essential for those that are feelin...        0     31  train  \n",
       "4  I first want to let you know that you are not ...        0    620  train  "
      ]
     },
     "execution_count": 1,
     "metadata": {},
     "output_type": "execute_result"
    }
   ],
   "source": [
    "import numpy as np\n",
    "import pandas as pd\n",
    "\n",
    "df = pd.read_csv(\"/kaggle/input/mai-preprocessed/mai.csv\")\n",
    "df.head()"
   ]
  },
  {
   "cell_type": "code",
   "execution_count": 2,
   "id": "22fd6a7a",
   "metadata": {
    "execution": {
     "iopub.execute_input": "2022-03-16T15:12:25.428973Z",
     "iopub.status.busy": "2022-03-16T15:12:25.428093Z",
     "iopub.status.idle": "2022-03-16T15:12:25.430241Z",
     "shell.execute_reply": "2022-03-16T15:12:25.430623Z",
     "shell.execute_reply.started": "2022-03-16T15:11:18.215627Z"
    },
    "papermill": {
     "duration": 0.017721,
     "end_time": "2022-03-16T15:12:25.430784",
     "exception": false,
     "start_time": "2022-03-16T15:12:25.413063",
     "status": "completed"
    },
    "tags": []
   },
   "outputs": [],
   "source": [
    "qTitle = df[\"questionTitle\"]\n",
    "qText = df[\"questionText\"]\n",
    "aText = df[\"answerText\"]"
   ]
  },
  {
   "cell_type": "code",
   "execution_count": 3,
   "id": "b593e3ac",
   "metadata": {
    "execution": {
     "iopub.execute_input": "2022-03-16T15:12:25.450564Z",
     "iopub.status.busy": "2022-03-16T15:12:25.449614Z",
     "iopub.status.idle": "2022-03-16T15:12:25.455587Z",
     "shell.execute_reply": "2022-03-16T15:12:25.456096Z",
     "shell.execute_reply.started": "2022-03-16T15:11:18.225068Z"
    },
    "papermill": {
     "duration": 0.017763,
     "end_time": "2022-03-16T15:12:25.456257",
     "exception": false,
     "start_time": "2022-03-16T15:12:25.438494",
     "status": "completed"
    },
    "tags": []
   },
   "outputs": [],
   "source": [
    "l = []\n",
    "for title, text in zip(qTitle, qText):\n",
    "    str = title + \" \" + text\n",
    "    l.append(str)"
   ]
  },
  {
   "cell_type": "code",
   "execution_count": 4,
   "id": "7632d737",
   "metadata": {
    "execution": {
     "iopub.execute_input": "2022-03-16T15:12:25.475263Z",
     "iopub.status.busy": "2022-03-16T15:12:25.474636Z",
     "iopub.status.idle": "2022-03-16T15:12:25.480210Z",
     "shell.execute_reply": "2022-03-16T15:12:25.479663Z",
     "shell.execute_reply.started": "2022-03-16T15:11:18.239357Z"
    },
    "papermill": {
     "duration": 0.016543,
     "end_time": "2022-03-16T15:12:25.480362",
     "exception": false,
     "start_time": "2022-03-16T15:12:25.463819",
     "status": "completed"
    },
    "tags": []
   },
   "outputs": [],
   "source": [
    "def list_duplicates_of(seq,item):\n",
    "    start_at = -1\n",
    "    locs = []\n",
    "    while True:\n",
    "        try:\n",
    "            loc = seq.index(item,start_at+1)\n",
    "        except ValueError:\n",
    "            break\n",
    "        else:\n",
    "            locs.append(loc)\n",
    "            start_at = loc\n",
    "    return locs"
   ]
  },
  {
   "cell_type": "code",
   "execution_count": 5,
   "id": "8f02154b",
   "metadata": {
    "execution": {
     "iopub.execute_input": "2022-03-16T15:12:25.499156Z",
     "iopub.status.busy": "2022-03-16T15:12:25.498522Z",
     "iopub.status.idle": "2022-03-16T15:12:25.553403Z",
     "shell.execute_reply": "2022-03-16T15:12:25.552774Z",
     "shell.execute_reply.started": "2022-03-16T15:11:18.250348Z"
    },
    "papermill": {
     "duration": 0.064988,
     "end_time": "2022-03-16T15:12:25.553557",
     "exception": false,
     "start_time": "2022-03-16T15:12:25.488569",
     "status": "completed"
    },
    "tags": []
   },
   "outputs": [],
   "source": [
    "li = []\n",
    "lis = []\n",
    "for x in set(l):\n",
    "    li.append(x)\n",
    "    dupes = list_duplicates_of(l, x)\n",
    "    answer = \"\"\n",
    "    for num in dupes:\n",
    "        answer += aText.iloc[num] + \" \"\n",
    "    lis.append(answer.strip())"
   ]
  },
  {
   "cell_type": "code",
   "execution_count": 6,
   "id": "8027b038",
   "metadata": {
    "execution": {
     "iopub.execute_input": "2022-03-16T15:12:25.575238Z",
     "iopub.status.busy": "2022-03-16T15:12:25.574427Z",
     "iopub.status.idle": "2022-03-16T15:12:25.576811Z",
     "shell.execute_reply": "2022-03-16T15:12:25.577321Z",
     "shell.execute_reply.started": "2022-03-16T15:11:18.321967Z"
    },
    "papermill": {
     "duration": 0.01582,
     "end_time": "2022-03-16T15:12:25.577488",
     "exception": false,
     "start_time": "2022-03-16T15:12:25.561668",
     "status": "completed"
    },
    "tags": []
   },
   "outputs": [],
   "source": [
    "q = pd.Series(li)\n",
    "a = pd.Series(lis)"
   ]
  },
  {
   "cell_type": "code",
   "execution_count": 7,
   "id": "562f3142",
   "metadata": {
    "execution": {
     "iopub.execute_input": "2022-03-16T15:12:25.598221Z",
     "iopub.status.busy": "2022-03-16T15:12:25.597312Z",
     "iopub.status.idle": "2022-03-16T15:12:25.599872Z",
     "shell.execute_reply": "2022-03-16T15:12:25.599394Z",
     "shell.execute_reply.started": "2022-03-16T15:11:18.330179Z"
    },
    "papermill": {
     "duration": 0.014879,
     "end_time": "2022-03-16T15:12:25.599994",
     "exception": false,
     "start_time": "2022-03-16T15:12:25.585115",
     "status": "completed"
    },
    "tags": []
   },
   "outputs": [],
   "source": [
    "X = []\n",
    "y = []\n",
    "for raw_text in q:\n",
    "    X.append(raw_text)\n",
    "for raw_text in a:\n",
    "    y.append(raw_text)"
   ]
  },
  {
   "cell_type": "code",
   "execution_count": 8,
   "id": "75aef81a",
   "metadata": {
    "execution": {
     "iopub.execute_input": "2022-03-16T15:12:25.620717Z",
     "iopub.status.busy": "2022-03-16T15:12:25.619678Z",
     "iopub.status.idle": "2022-03-16T15:12:25.632334Z",
     "shell.execute_reply": "2022-03-16T15:12:25.632763Z",
     "shell.execute_reply.started": "2022-03-16T15:11:18.342514Z"
    },
    "papermill": {
     "duration": 0.025347,
     "end_time": "2022-03-16T15:12:25.632931",
     "exception": false,
     "start_time": "2022-03-16T15:12:25.607584",
     "status": "completed"
    },
    "tags": []
   },
   "outputs": [],
   "source": [
    "import pickle\n",
    "\n",
    "with open(\"X.pickle\", \"wb\") as p:\n",
    "    pickle.dump(X, p)\n",
    "with open(\"y.pickle\", \"wb\") as p:\n",
    "    pickle.dump(y, p)"
   ]
  }
 ],
 "metadata": {
  "kernelspec": {
   "display_name": "Python 3",
   "language": "python",
   "name": "python3"
  },
  "language_info": {
   "codemirror_mode": {
    "name": "ipython",
    "version": 3
   },
   "file_extension": ".py",
   "mimetype": "text/x-python",
   "name": "python",
   "nbconvert_exporter": "python",
   "pygments_lexer": "ipython3",
   "version": "3.7.12"
  },
  "papermill": {
   "default_parameters": {},
   "duration": 9.163004,
   "end_time": "2022-03-16T15:12:26.148687",
   "environment_variables": {},
   "exception": null,
   "input_path": "__notebook__.ipynb",
   "output_path": "__notebook__.ipynb",
   "parameters": {},
   "start_time": "2022-03-16T15:12:16.985683",
   "version": "2.3.3"
  }
 },
 "nbformat": 4,
 "nbformat_minor": 5
}
